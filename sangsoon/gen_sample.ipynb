{
 "cells": [
  {
   "cell_type": "markdown",
   "metadata": {},
   "source": [
    "# domain-wall type SSH lattice"
   ]
  },
  {
   "cell_type": "markdown",
   "metadata": {},
   "source": [
    "This code will reproduce the results in Stephan's paper \n",
    "https://www.nature.com/articles/s42005-023-01230-z \n",
    "---\n",
    "We will do the following: \n",
    "- time dynamics"
   ]
  },
  {
   "cell_type": "code",
   "execution_count": 1,
   "metadata": {},
   "outputs": [],
   "source": [
    "import sys\n",
    "root_folder = 'src/'\n",
    "sys.path.insert(1, root_folder)\n",
    "\n",
    "import warnings\n",
    "warnings.filterwarnings(\"ignore\")\n",
    "\n",
    "import numpy as np\n",
    "import matplotlib.pyplot as plt\n",
    "\n",
    "from sympy import symbols, solve\n",
    "import math as m\n",
    "\n",
    "from tqdm import tqdm\n",
    "\n",
    "import random as rn\n",
    "\n",
    "import functions as fp\n",
    "from IPython.display import clear_output"
   ]
  },
  {
   "cell_type": "code",
   "execution_count": 2,
   "metadata": {},
   "outputs": [],
   "source": [
    "%load_ext autoreload\n",
    "%autoreload 2\n",
    "%matplotlib inline                "
   ]
  },
  {
   "cell_type": "markdown",
   "metadata": {},
   "source": [
    "# Calculate for multiple points"
   ]
  },
  {
   "cell_type": "code",
   "execution_count": 9,
   "metadata": {},
   "outputs": [],
   "source": [
    "N = 10                        # number of unit cells. 2*N+1 sites\n",
    "t1, t2 = 1, 0.7              #coupling strength\n",
    "\n",
    "gamma_AB = 0\n",
    "\n",
    "Ns = 100\n",
    "dt = 1 / Ns\n",
    "t_max = 1400\n",
    "\n",
    "Nt = int(t_max / dt)\n",
    "tab_t = np.linspace(0, t_max, Nt)"
   ]
  },
  {
   "cell_type": "code",
   "execution_count": 11,
   "metadata": {},
   "outputs": [
    {
     "data": {
      "image/png": "[encoded data removed]",
      "text/plain": [
       "<matplotlib.figure.Figure at 0x7f911e7db588>"
      ]
     },
     "metadata": {},
     "output_type": "display_data"
    }
   ],
   "source": [
    "Np = 200\n",
    "\n",
    "x_max = 0.5\n",
    "y_max = 0.5\n",
    "\n",
    "tab_xy = []\n",
    "\n",
    "for ii in range(Np):\n",
    "    x = x_max * (2*rn.random()-1.0)\n",
    "    y = y_max * (2*rn.random()-1.0)\n",
    "    tab_xy.append([x,y])\n",
    "\n",
    "arr_xy = np.array(tab_xy)\n",
    "\n",
    "plt.figure()\n",
    "plt.scatter(arr_xy[:,0], arr_xy[:,1])\n",
    "\n",
    "fname = '/home/topology/spxso2/repository/mycodes/machine_learning/tab_xy.txt'\n",
    "np.savetxt(fname,arr_xy)"
   ]
  },
  {
   "cell_type": "code",
   "execution_count": null,
   "metadata": {},
   "outputs": [
    {
     "name": "stdout",
     "output_type": "stream",
     "text": [
      "Iter: 1/200\n",
      "Iter: 2/200\n",
      "Iter: 3/200\n",
      "Iter: 4/200\n",
      "Iter: 5/200\n",
      "Iter: 6/200\n",
      "Iter: 7/200\n",
      "Iter: 8/200\n",
      "Iter: 9/200\n"
     ]
    }
   ],
   "source": [
    "fp.g_scan_1d_ssh(1, N, tab_xy, 0, t1, t2, Nt, tab_t, dt)"
   ]
  },
  {
   "cell_type": "code",
   "execution_count": null,
   "metadata": {},
   "outputs": [],
   "source": []
  }
 ],
 "metadata": {
  "kernelspec": {
   "display_name": "Python 3",
   "language": "python",
   "name": "python3"
  },
  "language_info": {
   "codemirror_mode": {
    "name": "ipython",
    "version": 3
   },
   "file_extension": ".py",
   "mimetype": "text/x-python",
   "name": "python",
   "nbconvert_exporter": "python",
   "pygments_lexer": "ipython3",
   "version": "3.6.4"
  }
 },
 "nbformat": 4,
 "nbformat_minor": 5
}
