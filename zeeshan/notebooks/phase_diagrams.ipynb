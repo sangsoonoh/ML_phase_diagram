{
 "cells": [
  {
   "cell_type": "code",
   "execution_count": 3,
   "metadata": {},
   "outputs": [
    {
     "name": "stdout",
     "output_type": "stream",
     "text": [
      "22\n",
      "['C:\\\\Users\\\\zeeshan\\\\AppData\\\\Local\\\\Programs\\\\Python\\\\Python312\\\\python312.zip', 'C:\\\\Users\\\\zeeshan\\\\AppData\\\\Local\\\\Programs\\\\Python\\\\Python312\\\\DLLs', 'C:\\\\Users\\\\zeeshan\\\\AppData\\\\Local\\\\Programs\\\\Python\\\\Python312\\\\Lib', 'C:\\\\Users\\\\zeeshan\\\\AppData\\\\Local\\\\Programs\\\\Python\\\\Python312', 'c:\\\\Users\\\\zeeshan\\\\ML_phase_diagram\\\\zeeshan\\\\.venv', '', 'c:\\\\Users\\\\zeeshan\\\\ML_phase_diagram\\\\zeeshan\\\\.venv\\\\Lib\\\\site-packages', 'c:\\\\Users\\\\zeeshan\\\\ML_phase_diagram\\\\zeeshan\\\\.venv\\\\Lib\\\\site-packages\\\\win32', 'c:\\\\Users\\\\zeeshan\\\\ML_phase_diagram\\\\zeeshan\\\\.venv\\\\Lib\\\\site-packages\\\\win32\\\\lib', 'c:\\\\Users\\\\zeeshan\\\\ML_phase_diagram\\\\zeeshan\\\\.venv\\\\Lib\\\\site-packages\\\\Pythonwin', 'C:\\\\Users\\\\zeeshan\\\\ML_phase_diagram\\\\scripts', 'C:\\\\Users\\\\zeeshan\\\\ML_phase_diagram\\\\scripts', 'C:\\\\Users\\\\zeeshan\\\\ML_phase_diagram\\\\scripts']\n"
     ]
    },
    {
     "ename": "ModuleNotFoundError",
     "evalue": "No module named 'scripts.ml'",
     "output_type": "error",
     "traceback": [
      "\u001b[1;31m---------------------------------------------------------------------------\u001b[0m",
      "\u001b[1;31mModuleNotFoundError\u001b[0m                       Traceback (most recent call last)",
      "Cell \u001b[1;32mIn[3], line 4\u001b[0m\n\u001b[0;32m      1\u001b[0m \u001b[38;5;28;01mimport\u001b[39;00m \u001b[38;5;21;01mimports\u001b[39;00m\n\u001b[0;32m      2\u001b[0m imports\u001b[38;5;241m.\u001b[39mfind_scripts()\n\u001b[1;32m----> 4\u001b[0m \u001b[38;5;28;01mfrom\u001b[39;00m \u001b[38;5;21;01mscripts\u001b[39;00m\u001b[38;5;21;01m.\u001b[39;00m\u001b[38;5;21;01mml\u001b[39;00m \u001b[38;5;28;01mimport\u001b[39;00m plot\n\u001b[0;32m      6\u001b[0m ml\u001b[38;5;241m.\u001b[39mplot()\u001b[38;5;241m.\u001b[39mshow()\n",
      "\u001b[1;31mModuleNotFoundError\u001b[0m: No module named 'scripts.ml'"
     ]
    }
   ],
   "source": [
    "import imports\n",
    "imports.find_scripts()\n",
    "\n",
    "from scripts.ml import plot\n",
    "\n",
    "ml.plot().show()\n"
   ]
  }
 ],
 "metadata": {
  "kernelspec": {
   "display_name": ".venv",
   "language": "python",
   "name": "python3"
  },
  "language_info": {
   "codemirror_mode": {
    "name": "ipython",
    "version": 3
   },
   "file_extension": ".py",
   "mimetype": "text/x-python",
   "name": "python",
   "nbconvert_exporter": "python",
   "pygments_lexer": "ipython3",
   "version": "3.12.2"
  }
 },
 "nbformat": 4,
 "nbformat_minor": 2
}
